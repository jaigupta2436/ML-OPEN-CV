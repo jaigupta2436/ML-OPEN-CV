{
 "cells": [
  {
   "cell_type": "code",
   "execution_count": 5,
   "metadata": {},
   "outputs": [
    {
     "data": {
      "text/plain": [
       "'cv2.waitkey() is a keyboard binding function, its arugment is time is milliseconds\\nthe function waits for specified milliseconds for any keyboard event\\ncv2.destroyAllWindows() simply destory all the windows we created , if we have to destroy\\na particular window then we use \"cv2.destroyWindow()\" pass extact window name in arugment'"
      ]
     },
     "execution_count": 5,
     "metadata": {},
     "output_type": "execute_result"
    }
   ],
   "source": [
    "\"\"\"Get started with image\n",
    "Task 1 - READ AN IMAGE\n",
    "IN open cv we use function \"cv2.imread(P1,P2)\" to read an image\n",
    "inside bracket P1 is first parameter where we define the path of image\n",
    "P2 is second parameter which specifies the way which image should be read\n",
    "P2- 1,0,-1 for colored,grayscale,unchanged\"\"\"\n",
    "\n",
    "import numpy as np\n",
    "import cv2\n",
    "\n",
    "#load an image is grayscale\n",
    "img = cv2.imread(r'\\Users\\hh\\Desktop\\cat.jpg',0)\n",
    "\n",
    "\"\"\"\n",
    "Task 2 - DISPLAY AN IMAGE\n",
    "IN open cv we use function \"cv2.imshow(P1,P2)\" to display an image\n",
    "inside the bracket P1 is first parametr where we gives the 'Window name'\n",
    "P2- variable name is which image is stored\"\"\"\n",
    "\n",
    "cv2.imshow('test_image',img)\n",
    "cv2.waitKey(0)\n",
    "cv2.destroyAllWindows()\n",
    "\n",
    "\"\"\"cv2.waitkey() is a keyboard binding function, its arugment is time is milliseconds\n",
    "the function waits for specified milliseconds for any keyboard event\n",
    "cv2.destroyAllWindows() simply destory all the windows we created , if we have to destroy\n",
    "a particular window then we use \"cv2.destroyWindow()\" pass extact window name in arugment\"\"\""
   ]
  },
  {
   "cell_type": "code",
   "execution_count": null,
   "metadata": {},
   "outputs": [],
   "source": []
  },
  {
   "cell_type": "code",
   "execution_count": null,
   "metadata": {},
   "outputs": [],
   "source": []
  },
  {
   "cell_type": "code",
   "execution_count": null,
   "metadata": {},
   "outputs": [],
   "source": []
  }
 ],
 "metadata": {
  "kernelspec": {
   "display_name": "Python 3",
   "language": "python",
   "name": "python3"
  },
  "language_info": {
   "codemirror_mode": {
    "name": "ipython",
    "version": 3
   },
   "file_extension": ".py",
   "mimetype": "text/x-python",
   "name": "python",
   "nbconvert_exporter": "python",
   "pygments_lexer": "ipython3",
   "version": "3.7.6"
  }
 },
 "nbformat": 4,
 "nbformat_minor": 4
}
