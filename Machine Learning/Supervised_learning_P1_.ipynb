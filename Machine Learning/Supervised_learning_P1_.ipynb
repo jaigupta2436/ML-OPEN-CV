{
  "nbformat": 4,
  "nbformat_minor": 0,
  "metadata": {
    "colab": {
      "name": "Supervised learning P1 .ipynb",
      "provenance": []
    },
    "kernelspec": {
      "name": "python3",
      "display_name": "Python 3"
    }
  },
  "cells": [
    {
      "cell_type": "code",
      "metadata": {
        "id": "2BLVUj2sfJ-U",
        "colab_type": "code",
        "colab": {
          "base_uri": "https://localhost:8080/",
          "height": 34
        },
        "outputId": "57f46f57-1f05-47e4-9eb1-23d50eacda6e"
      },
      "source": [
        "# -*- coding: utf-8 -*-\n",
        "\"\"\"\n",
        "Created on Sun Mar 22 17:21:06 2020\n",
        "\n",
        "@author: Ritik dhiman\n",
        "\"\"\"\n",
        "import sklearn \n",
        "from sklearn import tree\n",
        "#STEP 1 COLLECTING THE TRAINING DATA\n",
        "features = [[140,1],[130,1],[150,0],[170,0]]\n",
        "labels = [0,0,1,1]\n",
        "\n",
        "\"\"\"features contains the data of [Weight , texture ] of the fruit\n",
        "I used 1 for Smooth and 0 for Bumpy\n",
        "abels variable contain the data of label given to fruit\n",
        "I used 1 for Orange , 0 for Apple\"\"\"\n",
        "\n",
        "#STEP 2 TRAIN THE CLASSIFIER , the type of classifier i used now is DECISION TREE\n",
        "clf = tree.DecisionTreeClassifier()\n",
        "\n",
        "\"\"\"To Train the classifier we need a learning alogrithim as the procedure that create.\n",
        "It does that finding patterns in training data\n",
        "for eg. it might noticed orange tend to weigh more, so it create a rule that heavier fruit is more likely to be Orange\n",
        "\n",
        "In scikit , the training alogrithim is included in the classifier object and called as \"fit\" being used a syn. for \"FIND PATTERNS\" in the data\"\"\"\n",
        "\n",
        "clf = clf.fit(features,labels)\n",
        "\n",
        "#STEP 3 MAKE Prediction\n",
        "print (clf.predict([[150,0]]))\n",
        "\n",
        "\n",
        "\n"
      ],
      "execution_count": 3,
      "outputs": [
        {
          "output_type": "stream",
          "text": [
            "[1]\n"
          ],
          "name": "stdout"
        }
      ]
    }
  ]
}