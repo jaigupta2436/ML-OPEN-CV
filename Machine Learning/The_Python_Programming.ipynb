{
  "nbformat": 4,
  "nbformat_minor": 0,
  "metadata": {
    "colab": {
      "name": "The_Python_Programming.ipynb",
      "provenance": []
    },
    "kernelspec": {
      "name": "python3",
      "display_name": "Python 3"
    }
  },
  "cells": [
    {
      "cell_type": "markdown",
      "metadata": {
        "id": "iIZdeqmyxWCJ",
        "colab_type": "text"
      },
      "source": [
        "Addition of numbers in a function that takes two numbers and add them\n"
      ]
    },
    {
      "cell_type": "code",
      "metadata": {
        "id": "MZ9cHfo3xjAv",
        "colab_type": "code",
        "outputId": "e2acba40-0ec9-47a8-9bee-6efb6adebb33",
        "colab": {
          "base_uri": "https://localhost:8080/",
          "height": 34
        }
      },
      "source": [
        "def add_num(x,y):\n",
        "  return x+y\n",
        "\n",
        "add_num(2,3)"
      ],
      "execution_count": 0,
      "outputs": [
        {
          "output_type": "execute_result",
          "data": {
            "text/plain": [
              "5"
            ]
          },
          "metadata": {
            "tags": []
          },
          "execution_count": 2
        }
      ]
    },
    {
      "cell_type": "markdown",
      "metadata": {
        "id": "8Fjg571kyLID",
        "colab_type": "text"
      },
      "source": [
        "\n",
        "add_numbers updated to take an optional 3rd parameter.\n"
      ]
    },
    {
      "cell_type": "code",
      "metadata": {
        "id": "uZA9j3N2yM-m",
        "colab_type": "code",
        "outputId": "3ce4cf7f-3b78-48d3-fc8d-5e1f9936a38f",
        "colab": {
          "base_uri": "https://localhost:8080/",
          "height": 52
        }
      },
      "source": [
        "def add_num(x,y,z=None):\n",
        "  if (z == None):\n",
        "    return x+y\n",
        "  else:\n",
        "    return x+y+z\n",
        "\n",
        "print(add_num(2,4))\n",
        "print(add_num(3,5,6))\n"
      ],
      "execution_count": 0,
      "outputs": [
        {
          "output_type": "stream",
          "text": [
            "6\n",
            "14\n"
          ],
          "name": "stdout"
        }
      ]
    },
    {
      "cell_type": "markdown",
      "metadata": {
        "id": "vGA7bu69zfGu",
        "colab_type": "text"
      },
      "source": [
        "\n",
        "Assign function add_numbers to variable a.\n"
      ]
    },
    {
      "cell_type": "code",
      "metadata": {
        "id": "gKhlQsR5ztjC",
        "colab_type": "code",
        "outputId": "d6884a80-7236-4f96-d027-eb402df770db",
        "colab": {
          "base_uri": "https://localhost:8080/",
          "height": 34
        }
      },
      "source": [
        "def add_num(x,y):\n",
        "  return x+y\n",
        "a = add_num\n",
        "a(4,9)"
      ],
      "execution_count": 0,
      "outputs": [
        {
          "output_type": "execute_result",
          "data": {
            "text/plain": [
              "13"
            ]
          },
          "metadata": {
            "tags": []
          },
          "execution_count": 10
        }
      ]
    },
    {
      "cell_type": "markdown",
      "metadata": {
        "id": "Etp6zNoR0Si2",
        "colab_type": "text"
      },
      "source": [
        "**Types and Sequences**"
      ]
    },
    {
      "cell_type": "code",
      "metadata": {
        "id": "ZS07otau0YCD",
        "colab_type": "code",
        "outputId": "9ffc945e-4586-42dd-b7c2-1498fa138928",
        "colab": {
          "base_uri": "https://localhost:8080/",
          "height": 104
        }
      },
      "source": [
        "print(type('This is a string'))\n",
        "print(type(None))\n",
        "print(type(1))\n",
        "print(type(1.0))\n",
        "print(type(add_num))"
      ],
      "execution_count": 0,
      "outputs": [
        {
          "output_type": "stream",
          "text": [
            "<class 'str'>\n",
            "<class 'NoneType'>\n",
            "<class 'int'>\n",
            "<class 'float'>\n",
            "<class 'function'>\n"
          ],
          "name": "stdout"
        }
      ]
    },
    {
      "cell_type": "markdown",
      "metadata": {
        "id": "9QHOnpf58qBk",
        "colab_type": "text"
      },
      "source": [
        "Tuples are an immutable data structure (cannot be altered)"
      ]
    },
    {
      "cell_type": "code",
      "metadata": {
        "id": "zA55S66m8rWX",
        "colab_type": "code",
        "outputId": "e0c584c3-1120-46fb-807b-2d1cd2e2b50d",
        "colab": {
          "base_uri": "https://localhost:8080/",
          "height": 34
        }
      },
      "source": [
        "x = (1, 'a', 2, 'b')\n",
        "type(x)"
      ],
      "execution_count": 0,
      "outputs": [
        {
          "output_type": "execute_result",
          "data": {
            "text/plain": [
              "tuple"
            ]
          },
          "metadata": {
            "tags": []
          },
          "execution_count": 14
        }
      ]
    },
    {
      "cell_type": "markdown",
      "metadata": {
        "id": "lQHxcpzt87ab",
        "colab_type": "text"
      },
      "source": [
        "\n",
        "Lists are a mutable data structure.\n"
      ]
    },
    {
      "cell_type": "code",
      "metadata": {
        "id": "N9tQFBG_88pm",
        "colab_type": "code",
        "outputId": "3ed5112a-7af5-4fa4-c526-aafc35e87c9a",
        "colab": {
          "base_uri": "https://localhost:8080/",
          "height": 34
        }
      },
      "source": [
        "x = [1, 'a', 2, 'b']\n",
        "type(x)\n",
        "x.append(3.3)\n",
        "print(x)"
      ],
      "execution_count": 0,
      "outputs": [
        {
          "output_type": "stream",
          "text": [
            "[1, 'a', 2, 'b', 3.3]\n"
          ],
          "name": "stdout"
        }
      ]
    },
    {
      "cell_type": "markdown",
      "metadata": {
        "id": "T8-t_Lv89f3l",
        "colab_type": "text"
      },
      "source": [
        "\n",
        "This is an example of how to loop through each item in the list.\n"
      ]
    },
    {
      "cell_type": "code",
      "metadata": {
        "id": "Pt0VO7-A9hGc",
        "colab_type": "code",
        "outputId": "19c5e167-344f-45ea-f5fa-3f59b00f7ee4",
        "colab": {
          "base_uri": "https://localhost:8080/",
          "height": 191
        }
      },
      "source": [
        "for item in x:\n",
        "  print(x)\n",
        "  print(len(x))"
      ],
      "execution_count": 0,
      "outputs": [
        {
          "output_type": "stream",
          "text": [
            "[1, 'a', 2, 'b', 3.3]\n",
            "5\n",
            "[1, 'a', 2, 'b', 3.3]\n",
            "5\n",
            "[1, 'a', 2, 'b', 3.3]\n",
            "5\n",
            "[1, 'a', 2, 'b', 3.3]\n",
            "5\n",
            "[1, 'a', 2, 'b', 3.3]\n",
            "5\n"
          ],
          "name": "stdout"
        }
      ]
    },
    {
      "cell_type": "markdown",
      "metadata": {
        "id": "IvYgPQUr9vye",
        "colab_type": "text"
      },
      "source": [
        "Or using the indexing operator:\n"
      ]
    },
    {
      "cell_type": "code",
      "metadata": {
        "id": "iqiek1Vi9y1N",
        "colab_type": "code",
        "outputId": "51545420-ca06-45c8-b4bf-24fe6f26e702",
        "colab": {
          "base_uri": "https://localhost:8080/",
          "height": 104
        }
      },
      "source": [
        "i=0\n",
        "while( i != len(x) ):\n",
        "    print(x[i])\n",
        "    i = i + 1"
      ],
      "execution_count": 0,
      "outputs": [
        {
          "output_type": "stream",
          "text": [
            "1\n",
            "a\n",
            "2\n",
            "b\n",
            "3.3\n"
          ],
          "name": "stdout"
        }
      ]
    },
    {
      "cell_type": "markdown",
      "metadata": {
        "id": "9n2P1RjR-WcF",
        "colab_type": "text"
      },
      "source": [
        "Now let's look at strings. Use bracket notation to slice a string.   "
      ]
    },
    {
      "cell_type": "code",
      "metadata": {
        "id": "0bz1LHf8-X89",
        "colab_type": "code",
        "outputId": "92efa34c-0d54-4f15-a79c-a29e04bd168a",
        "colab": {
          "base_uri": "https://localhost:8080/",
          "height": 104
        }
      },
      "source": [
        "x = 'This is a string'\n",
        "print(x[0]) #first character\n",
        "print(x[0:1]) #first character, but we have explicitly set the end character\n",
        "print(x[0:2]) #first two characters\n",
        "#x[start,stop,step]\n",
        "print(x[3:])\n",
        "print(x[-4:-2]) #reverse slicing"
      ],
      "execution_count": 0,
      "outputs": [
        {
          "output_type": "stream",
          "text": [
            "T\n",
            "T\n",
            "Th\n",
            "s is a string\n",
            "ri\n"
          ],
          "name": "stdout"
        }
      ]
    },
    {
      "cell_type": "code",
      "metadata": {
        "id": "1r3vrbEx_D77",
        "colab_type": "code",
        "outputId": "bfdd111b-a5fa-46bd-edfd-a2d93da30445",
        "colab": {
          "base_uri": "https://localhost:8080/",
          "height": 86
        }
      },
      "source": [
        "firstname = 'Ritik'\n",
        "lastname = 'Dhiman'\n",
        "\n",
        "print(firstname + ' ' + lastname)\n",
        "print(firstname*3)\n",
        "print('Ritik' in firstname)\n",
        "print('Dhiman' in firstname)\n"
      ],
      "execution_count": 0,
      "outputs": [
        {
          "output_type": "stream",
          "text": [
            "Ritik Dhiman\n",
            "RitikRitikRitik\n",
            "True\n",
            "False\n"
          ],
          "name": "stdout"
        }
      ]
    },
    {
      "cell_type": "markdown",
      "metadata": {
        "id": "oDeTV6z7_aAy",
        "colab_type": "text"
      },
      "source": [
        "\n",
        "split returns a list of all the words in a string, or a list split on a specific character.\n"
      ]
    },
    {
      "cell_type": "code",
      "metadata": {
        "id": "LDQaPu0l_b_n",
        "colab_type": "code",
        "outputId": "2c02c0ce-a155-4329-d21a-045b3454d0cf",
        "colab": {
          "base_uri": "https://localhost:8080/",
          "height": 69
        }
      },
      "source": [
        "firstname = 'Ritik is my first name'.split(' ')[0] # [0] selects the first element of the list\n",
        "lastname = 'Dhiman is my last name'.split(' ')[-1] # [-1] selects the last element of the list\n",
        "lists = 'Name and Birthplace'.split(' ')[-1]\n",
        "print(firstname)\n",
        "print(lastname)\n",
        "print(lists)"
      ],
      "execution_count": 0,
      "outputs": [
        {
          "output_type": "stream",
          "text": [
            "Ritik\n",
            "name\n",
            "Birthplace\n"
          ],
          "name": "stdout"
        }
      ]
    },
    {
      "cell_type": "markdown",
      "metadata": {
        "id": "T_mzZU0SA2G0",
        "colab_type": "text"
      },
      "source": [
        "\n",
        "Make sure you convert objects to strings before concatenating.\n"
      ]
    },
    {
      "cell_type": "code",
      "metadata": {
        "id": "PD5tu7mAA3A5",
        "colab_type": "code",
        "colab": {}
      },
      "source": [
        "'Ritik' + 2\n",
        "'Ritik' + str(2)\n"
      ],
      "execution_count": 0,
      "outputs": []
    },
    {
      "cell_type": "markdown",
      "metadata": {
        "id": "utj747vSOAV8",
        "colab_type": "text"
      },
      "source": [
        "**DATE AND TIME**\n",
        "\n",
        "Date and time can be stored in many  different ways in python but one of the most common legacy method is based on ofset of Epochs , which is January 1, 1970\n",
        "\n"
      ]
    },
    {
      "cell_type": "code",
      "metadata": {
        "id": "3IEAiaoCzCVw",
        "colab_type": "code",
        "outputId": "0f3b2d6e-9d22-4f3b-fe1b-e664703310f1",
        "colab": {
          "base_uri": "https://localhost:8080/",
          "height": 34
        }
      },
      "source": [
        "import datetime as dt\n",
        "import time as tm\n",
        "\n",
        "tm.time()\n",
        "dt.datetime.fromtimestamp(tm.time())"
      ],
      "execution_count": 0,
      "outputs": [
        {
          "output_type": "execute_result",
          "data": {
            "text/plain": [
              "datetime.datetime(2020, 5, 18, 17, 25, 29, 9926)"
            ]
          },
          "metadata": {
            "tags": []
          },
          "execution_count": 10
        }
      ]
    },
    {
      "cell_type": "code",
      "metadata": {
        "id": "9qriIEls0AFx",
        "colab_type": "code",
        "outputId": "e0319e5e-6cd6-49d5-d54d-04ad7b62536f",
        "colab": {
          "base_uri": "https://localhost:8080/",
          "height": 52
        }
      },
      "source": [
        "print(tm.localtime())\n",
        "print(tm.gmtime(0))\n"
      ],
      "execution_count": 0,
      "outputs": [
        {
          "output_type": "stream",
          "text": [
            "time.struct_time(tm_year=2020, tm_mon=5, tm_mday=18, tm_hour=17, tm_min=32, tm_sec=13, tm_wday=0, tm_yday=139, tm_isdst=0)\n",
            "time.struct_time(tm_year=1970, tm_mon=1, tm_mday=1, tm_hour=0, tm_min=0, tm_sec=0, tm_wday=3, tm_yday=1, tm_isdst=0)\n"
          ],
          "name": "stdout"
        }
      ]
    },
    {
      "cell_type": "markdown",
      "metadata": {
        "id": "8XJAlX56QXza",
        "colab_type": "text"
      },
      "source": [
        " \n",
        "**functions**\n",
        "A function is a set of statements that take inputs, do some specific computation and produces output. \n"
      ]
    },
    {
      "cell_type": "code",
      "metadata": {
        "id": "-fmU8k7-58nT",
        "colab_type": "code",
        "outputId": "5b18a563-a0f6-4b6e-cb29-cbb09abde2bd",
        "colab": {
          "base_uri": "https://localhost:8080/",
          "height": 34
        }
      },
      "source": [
        "def num(a,b):\n",
        "  return a+b\n",
        "\n",
        "result = num(10,2)\n",
        "print(result)"
      ],
      "execution_count": 0,
      "outputs": [
        {
          "output_type": "stream",
          "text": [
            "12\n"
          ],
          "name": "stdout"
        }
      ]
    },
    {
      "cell_type": "markdown",
      "metadata": {
        "id": "3AEp1rNU6aPA",
        "colab_type": "text"
      },
      "source": [
        "Also a function can return multiple values in the form of a tuple by which they can't be changed furthur."
      ]
    },
    {
      "cell_type": "code",
      "metadata": {
        "id": "6wTddLt06pkT",
        "colab_type": "code",
        "outputId": "e902bab2-5826-4864-a36f-e58cca62457b",
        "colab": {
          "base_uri": "https://localhost:8080/",
          "height": 104
        }
      },
      "source": [
        "def cal(a,b):\n",
        "  x = a+b\n",
        "  y = a-b\n",
        "  p = a*b\n",
        "  q = a/b\n",
        "  return x,y,p,q\n",
        "\n",
        "result = cal(4,2)\n",
        "print(result)\n",
        "\n",
        "for i in result:\n",
        "  print(i)"
      ],
      "execution_count": 0,
      "outputs": [
        {
          "output_type": "stream",
          "text": [
            "(6, 2, 8, 2.0)\n",
            "6\n",
            "2\n",
            "8\n",
            "2.0\n"
          ],
          "name": "stdout"
        }
      ]
    },
    {
      "cell_type": "markdown",
      "metadata": {
        "id": "HzNrTtlb7MMl",
        "colab_type": "text"
      },
      "source": [
        "**Variables**\n",
        "There are two types of variables - Global and local variable\n",
        "Local var -- These type of variable only used inside a function.\n",
        "Global var --  These type of variable can be used anywhere in the program.\n",
        "\n"
      ]
    },
    {
      "cell_type": "code",
      "metadata": {
        "id": "WpsE_dKv7zpm",
        "colab_type": "code",
        "outputId": "18284ef4-d4af-443b-89ad-b3540fe71b64",
        "colab": {
          "base_uri": "https://localhost:8080/",
          "height": 69
        }
      },
      "source": [
        "x = 467\n",
        "\n",
        "def display():\n",
        "  x = 345\n",
        "  print(x)\n",
        "  print(globals()['x'])  #globals()['varibale name'] , used to access the global variable.\n",
        "  \n",
        "\n",
        "print(x)\n",
        "display()"
      ],
      "execution_count": 0,
      "outputs": [
        {
          "output_type": "stream",
          "text": [
            "467\n",
            "345\n",
            "467\n"
          ],
          "name": "stdout"
        }
      ]
    },
    {
      "cell_type": "markdown",
      "metadata": {
        "id": "dVyAGtp-9r2z",
        "colab_type": "text"
      },
      "source": [
        "**function inside a function**"
      ]
    },
    {
      "cell_type": "code",
      "metadata": {
        "id": "Ukqnpoa09yK6",
        "colab_type": "code",
        "outputId": "2b2f6ef1-59c7-4ae1-a45f-b2e9f5669f26",
        "colab": {
          "base_uri": "https://localhost:8080/",
          "height": 34
        }
      },
      "source": [
        "def display(name):\n",
        "  def message():\n",
        "    return \"Hello \"\n",
        "  result = message() + name\n",
        "  return result\n",
        "\n",
        "display(\"Ritik\")\n"
      ],
      "execution_count": 0,
      "outputs": [
        {
          "output_type": "execute_result",
          "data": {
            "text/plain": [
              "'Hello Ritik'"
            ]
          },
          "metadata": {
            "tags": []
          },
          "execution_count": 22
        }
      ]
    },
    {
      "cell_type": "markdown",
      "metadata": {
        "id": "glUUMymoLg8r",
        "colab_type": "text"
      },
      "source": [
        " **Recursion**\n",
        " Recursive functions are those which call itself. Very first step in these type of fucntions to define the end condition. for eg factorial"
      ]
    },
    {
      "cell_type": "code",
      "metadata": {
        "id": "BIs5dlJG5mvH",
        "colab_type": "code",
        "colab": {
          "base_uri": "https://localhost:8080/",
          "height": 104
        },
        "outputId": "a8653871-8fa8-45b3-b373-5c34a9c7f677"
      },
      "source": [
        "def factorial(n):\n",
        "  if n==0:\n",
        "    result = 1\n",
        "  else:\n",
        "    result = n*factorial(n-1)\n",
        "  return result\n",
        "\n",
        "for i in range(5):\n",
        "  print(factorial(i))\n",
        "\n"
      ],
      "execution_count": 13,
      "outputs": [
        {
          "output_type": "stream",
          "text": [
            "1\n",
            "1\n",
            "2\n",
            "6\n",
            "24\n"
          ],
          "name": "stdout"
        }
      ]
    }
  ]
}